{
 "cells": [
  {
   "cell_type": "code",
   "execution_count": 21,
   "metadata": {
    "collapsed": true
   },
   "outputs": [],
   "source": [
    "# Word2Vec model to convert words from questions and answers text to vectors \n",
    "# vector length: 100 | vocab length: 1002"
   ]
  },
  {
   "cell_type": "code",
   "execution_count": 1,
   "metadata": {},
   "outputs": [
    {
     "name": "stderr",
     "output_type": "stream",
     "text": [
      "C:\\Users\\amrapali\\Anaconda3\\lib\\site-packages\\gensim\\utils.py:1197: UserWarning: detected Windows; aliasing chunkize to chunkize_serial\n",
      "  warnings.warn(\"detected Windows; aliasing chunkize to chunkize_serial\")\n"
     ]
    }
   ],
   "source": [
    "#import necessary packages\n",
    "import numpy as np\n",
    "import tensorflow as tf\n",
    "import gensim\n",
    "import re"
   ]
  },
  {
   "cell_type": "code",
   "execution_count": 2,
   "metadata": {},
   "outputs": [],
   "source": [
    "# importing and pre-processing training data \n",
    "# Remove \\n, \"image*\" ,\"?/n\" characters and add ? to show end of question. Separate words joined by underscore\n",
    "# include start, end , pad and unknow (for unseen words in test dataset) tags to vocab\n",
    "question_data = open(\"Text-Q&A-train.txt\")\n",
    "allDataList = [[\"<start>\"],[\"<Pad>\"],[\"<Unk>\"],[\".\"]]\n",
    "for line in question_data.readlines():\n",
    "    line = line.replace(\"?\\n\",\"\")\n",
    "    line = re.sub(r\"image\\d+\", \" \", line)\n",
    "    line = line.replace(\",\",\" ,\")\n",
    "    line = line.replace(\".\",\" . \")\n",
    "    line = line.replace(\"_\",\" \")\n",
    "    if line.endswith(\"\\n\") or line== 'chair':\n",
    "        line = line.replace(\"\\n\",\"\")\n",
    "        line = line + \" \"+ \"<End>\"\n",
    "        allDataList.append(line.split(\" \"))\n",
    "    else:\n",
    "        line = line[0:-10]\n",
    "        line+= \" ?\"+\" <End>\"\n",
    "        allDataList.append(line.split(\" \"))"
   ]
  },
  {
   "cell_type": "code",
   "execution_count": 8,
   "metadata": {
    "collapsed": true
   },
   "outputs": [
    {
     "data": {
      "text/plain": [
       "[['<start>'],\n",
       " ['<Pad>'],\n",
       " ['<Unk>'],\n",
       " ['.'],\n",
       " ['what',\n",
       "  'is',\n",
       "  'on',\n",
       "  'the',\n",
       "  'right',\n",
       "  'side',\n",
       "  'of',\n",
       "  'the',\n",
       "  'black',\n",
       "  'telephone',\n",
       "  'and',\n",
       "  'on',\n",
       "  'the',\n",
       "  'left',\n",
       "  'side',\n",
       "  'of',\n",
       "  'the',\n",
       "  'red',\n",
       "  'chair',\n",
       "  '?',\n",
       "  '<End>'],\n",
       " ['desk', '<End>'],\n",
       " ['what',\n",
       "  'is',\n",
       "  'in',\n",
       "  'front',\n",
       "  'of',\n",
       "  'the',\n",
       "  'white',\n",
       "  'door',\n",
       "  'on',\n",
       "  'the',\n",
       "  'left',\n",
       "  'side',\n",
       "  'of',\n",
       "  'the',\n",
       "  'desk',\n",
       "  '?',\n",
       "  '<End>'],\n",
       " ['telephone', '<End>'],\n",
       " ['what', 'is', 'on', 'the', 'desk', '?', '<End>'],\n",
       " ['book', ',', 'scissor', ',', 'papers', ',', 'tape', 'dispenser', '<End>']]"
      ]
     },
     "execution_count": 8,
     "metadata": {},
     "output_type": "execute_result"
    }
   ],
   "source": [
    "allDataList[0:10]"
   ]
  },
  {
   "cell_type": "code",
   "execution_count": 3,
   "metadata": {},
   "outputs": [
    {
     "data": {
      "text/plain": [
       "(2454428, 6576240)"
      ]
     },
     "execution_count": 3,
     "metadata": {},
     "output_type": "execute_result"
    }
   ],
   "source": [
    "#train word2vec model using gensim on given data\n",
    "word2vec = gensim.models.word2vec.Word2Vec(allDataList, size=100,window=4,min_count=1, workers=4)\n",
    "word2vec.train(allDataList, total_examples=len(allDataList), epochs=80)"
   ]
  },
  {
   "cell_type": "code",
   "execution_count": 4,
   "metadata": {},
   "outputs": [
    {
     "data": {
      "text/plain": [
       "[('what', 0.6579486727714539),\n",
       " ('?', 0.6220008730888367),\n",
       " ('cpu', 0.5799879431724548),\n",
       " ('is', 0.570412814617157),\n",
       " ('present', 0.567912757396698),\n",
       " ('<End>', 0.5509481430053711),\n",
       " ('cabinet', 0.525180459022522),\n",
       " ('cot', 0.515967607498169),\n",
       " ('wall', 0.5146660208702087),\n",
       " ('shelf', 0.5132288932800293)]"
      ]
     },
     "execution_count": 4,
     "metadata": {},
     "output_type": "execute_result"
    }
   ],
   "source": [
    "#testing vector representations\n",
    "word2vec.wv.most_similar(positive=\"the\")"
   ]
  },
  {
   "cell_type": "code",
   "execution_count": 5,
   "metadata": {},
   "outputs": [],
   "source": [
    "#saving model\n",
    "#word2vec.wv.save(\"word2vec-train1.kv\")\n",
    "word2vec.save(\"word2vec.model\")"
   ]
  },
  {
   "cell_type": "code",
   "execution_count": null,
   "metadata": {
    "collapsed": true
   },
   "outputs": [],
   "source": [
    "from keras.models import model_from_json\n",
    "json_file = open('enc-dec-Stopweights.json', 'r')\n",
    "loaded_model_json = json_file.read()\n",
    "json_file.close()\n",
    "loaded_model = model_from_json(loaded_model_json)\n",
    "# load weights into new model\n",
    "loaded_model.load_weights(\"enc-dec-Stopweights.h5\")"
   ]
  }
 ],
 "metadata": {
  "kernelspec": {
   "display_name": "Python 3",
   "language": "python",
   "name": "python3"
  },
  "language_info": {
   "codemirror_mode": {
    "name": "ipython",
    "version": 3
   },
   "file_extension": ".py",
   "mimetype": "text/x-python",
   "name": "python",
   "nbconvert_exporter": "python",
   "pygments_lexer": "ipython3",
   "version": "3.6.8"
  }
 },
 "nbformat": 4,
 "nbformat_minor": 2
}
